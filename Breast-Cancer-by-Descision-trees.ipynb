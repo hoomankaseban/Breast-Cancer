{
 "cells": [
  {
   "cell_type": "markdown",
   "id": "3d4d5d94",
   "metadata": {},
   "source": [
    "# IMPORT Libraries"
   ]
  },
  {
   "cell_type": "code",
   "execution_count": 124,
   "id": "ac1c6dc9",
   "metadata": {},
   "outputs": [],
   "source": [
    "import numpy as np\n",
    "import pandas as pd\n",
    "from sklearn.tree import DecisionTreeClassifier\n",
    "from sklearn.preprocessing import LabelEncoder\n",
    "from sklearn.model_selection import train_test_split"
   ]
  },
  {
   "cell_type": "markdown",
   "id": "65f056aa",
   "metadata": {},
   "source": [
    "# READ CSV"
   ]
  },
  {
   "cell_type": "code",
   "execution_count": 125,
   "id": "53d394ab",
   "metadata": {},
   "outputs": [
    {
     "data": {
      "text/html": [
       "<div>\n",
       "<style scoped>\n",
       "    .dataframe tbody tr th:only-of-type {\n",
       "        vertical-align: middle;\n",
       "    }\n",
       "\n",
       "    .dataframe tbody tr th {\n",
       "        vertical-align: top;\n",
       "    }\n",
       "\n",
       "    .dataframe thead th {\n",
       "        text-align: right;\n",
       "    }\n",
       "</style>\n",
       "<table border=\"1\" class=\"dataframe\">\n",
       "  <thead>\n",
       "    <tr style=\"text-align: right;\">\n",
       "      <th></th>\n",
       "      <th>Age</th>\n",
       "      <th>Race</th>\n",
       "      <th>Marital Status</th>\n",
       "      <th>T Stage</th>\n",
       "      <th>N Stage</th>\n",
       "      <th>6th Stage</th>\n",
       "      <th>differentiate</th>\n",
       "      <th>Grade</th>\n",
       "      <th>A Stage</th>\n",
       "      <th>Tumor Size</th>\n",
       "      <th>Estrogen Status</th>\n",
       "      <th>Progesterone Status</th>\n",
       "      <th>Regional Node Examined</th>\n",
       "      <th>Reginol Node Positive</th>\n",
       "      <th>Survival Months</th>\n",
       "      <th>Status</th>\n",
       "    </tr>\n",
       "  </thead>\n",
       "  <tbody>\n",
       "    <tr>\n",
       "      <th>0</th>\n",
       "      <td>68</td>\n",
       "      <td>White</td>\n",
       "      <td>Married</td>\n",
       "      <td>T1</td>\n",
       "      <td>N1</td>\n",
       "      <td>IIA</td>\n",
       "      <td>Poorly differentiated</td>\n",
       "      <td>3</td>\n",
       "      <td>Regional</td>\n",
       "      <td>4</td>\n",
       "      <td>Positive</td>\n",
       "      <td>Positive</td>\n",
       "      <td>24</td>\n",
       "      <td>1</td>\n",
       "      <td>60</td>\n",
       "      <td>Alive</td>\n",
       "    </tr>\n",
       "    <tr>\n",
       "      <th>1</th>\n",
       "      <td>50</td>\n",
       "      <td>White</td>\n",
       "      <td>Married</td>\n",
       "      <td>T2</td>\n",
       "      <td>N2</td>\n",
       "      <td>IIIA</td>\n",
       "      <td>Moderately differentiated</td>\n",
       "      <td>2</td>\n",
       "      <td>Regional</td>\n",
       "      <td>35</td>\n",
       "      <td>Positive</td>\n",
       "      <td>Positive</td>\n",
       "      <td>14</td>\n",
       "      <td>5</td>\n",
       "      <td>62</td>\n",
       "      <td>Alive</td>\n",
       "    </tr>\n",
       "    <tr>\n",
       "      <th>2</th>\n",
       "      <td>58</td>\n",
       "      <td>White</td>\n",
       "      <td>Divorced</td>\n",
       "      <td>T3</td>\n",
       "      <td>N3</td>\n",
       "      <td>IIIC</td>\n",
       "      <td>Moderately differentiated</td>\n",
       "      <td>2</td>\n",
       "      <td>Regional</td>\n",
       "      <td>63</td>\n",
       "      <td>Positive</td>\n",
       "      <td>Positive</td>\n",
       "      <td>14</td>\n",
       "      <td>7</td>\n",
       "      <td>75</td>\n",
       "      <td>Alive</td>\n",
       "    </tr>\n",
       "    <tr>\n",
       "      <th>3</th>\n",
       "      <td>58</td>\n",
       "      <td>White</td>\n",
       "      <td>Married</td>\n",
       "      <td>T1</td>\n",
       "      <td>N1</td>\n",
       "      <td>IIA</td>\n",
       "      <td>Poorly differentiated</td>\n",
       "      <td>3</td>\n",
       "      <td>Regional</td>\n",
       "      <td>18</td>\n",
       "      <td>Positive</td>\n",
       "      <td>Positive</td>\n",
       "      <td>2</td>\n",
       "      <td>1</td>\n",
       "      <td>84</td>\n",
       "      <td>Alive</td>\n",
       "    </tr>\n",
       "    <tr>\n",
       "      <th>4</th>\n",
       "      <td>47</td>\n",
       "      <td>White</td>\n",
       "      <td>Married</td>\n",
       "      <td>T2</td>\n",
       "      <td>N1</td>\n",
       "      <td>IIB</td>\n",
       "      <td>Poorly differentiated</td>\n",
       "      <td>3</td>\n",
       "      <td>Regional</td>\n",
       "      <td>41</td>\n",
       "      <td>Positive</td>\n",
       "      <td>Positive</td>\n",
       "      <td>3</td>\n",
       "      <td>1</td>\n",
       "      <td>50</td>\n",
       "      <td>Alive</td>\n",
       "    </tr>\n",
       "  </tbody>\n",
       "</table>\n",
       "</div>"
      ],
      "text/plain": [
       "   Age   Race Marital Status T Stage  N Stage 6th Stage  \\\n",
       "0   68  White        Married       T1      N1       IIA   \n",
       "1   50  White        Married       T2      N2      IIIA   \n",
       "2   58  White       Divorced       T3      N3      IIIC   \n",
       "3   58  White        Married       T1      N1       IIA   \n",
       "4   47  White        Married       T2      N1       IIB   \n",
       "\n",
       "               differentiate Grade   A Stage  Tumor Size Estrogen Status  \\\n",
       "0      Poorly differentiated     3  Regional           4        Positive   \n",
       "1  Moderately differentiated     2  Regional          35        Positive   \n",
       "2  Moderately differentiated     2  Regional          63        Positive   \n",
       "3      Poorly differentiated     3  Regional          18        Positive   \n",
       "4      Poorly differentiated     3  Regional          41        Positive   \n",
       "\n",
       "  Progesterone Status  Regional Node Examined  Reginol Node Positive  \\\n",
       "0            Positive                      24                      1   \n",
       "1            Positive                      14                      5   \n",
       "2            Positive                      14                      7   \n",
       "3            Positive                       2                      1   \n",
       "4            Positive                       3                      1   \n",
       "\n",
       "   Survival Months Status  \n",
       "0               60  Alive  \n",
       "1               62  Alive  \n",
       "2               75  Alive  \n",
       "3               84  Alive  \n",
       "4               50  Alive  "
      ]
     },
     "execution_count": 125,
     "metadata": {},
     "output_type": "execute_result"
    }
   ],
   "source": [
    "my_data = pd.read_csv(\"Breast_Cancer.csv\", delimiter=\",\")\n",
    "my_data[0:5]"
   ]
  },
  {
   "cell_type": "markdown",
   "id": "4b0015e0",
   "metadata": {},
   "source": [
    "# Gain some Information"
   ]
  },
  {
   "cell_type": "code",
   "execution_count": 126,
   "id": "814338e3",
   "metadata": {
    "scrolled": true
   },
   "outputs": [
    {
     "data": {
      "text/plain": [
       "array(['Alive', 'Dead'], dtype=object)"
      ]
     },
     "execution_count": 126,
     "metadata": {},
     "output_type": "execute_result"
    }
   ],
   "source": [
    "my_data['Status'].unique()"
   ]
  },
  {
   "cell_type": "code",
   "execution_count": 127,
   "id": "85ce5572",
   "metadata": {
    "scrolled": false
   },
   "outputs": [
    {
     "name": "stdout",
     "output_type": "stream",
     "text": [
      "<class 'pandas.core.frame.DataFrame'>\n",
      "RangeIndex: 4024 entries, 0 to 4023\n",
      "Data columns (total 16 columns):\n",
      " #   Column                  Non-Null Count  Dtype \n",
      "---  ------                  --------------  ----- \n",
      " 0   Age                     4024 non-null   int64 \n",
      " 1   Race                    4024 non-null   object\n",
      " 2   Marital Status          4024 non-null   object\n",
      " 3   T Stage                 4024 non-null   object\n",
      " 4   N Stage                 4024 non-null   object\n",
      " 5   6th Stage               4024 non-null   object\n",
      " 6   differentiate           4024 non-null   object\n",
      " 7   Grade                   4024 non-null   object\n",
      " 8   A Stage                 4024 non-null   object\n",
      " 9   Tumor Size              4024 non-null   int64 \n",
      " 10  Estrogen Status         4024 non-null   object\n",
      " 11  Progesterone Status     4024 non-null   object\n",
      " 12  Regional Node Examined  4024 non-null   int64 \n",
      " 13  Reginol Node Positive   4024 non-null   int64 \n",
      " 14  Survival Months         4024 non-null   int64 \n",
      " 15  Status                  4024 non-null   object\n",
      "dtypes: int64(5), object(11)\n",
      "memory usage: 503.1+ KB\n"
     ]
    }
   ],
   "source": [
    "my_data.info()"
   ]
  },
  {
   "cell_type": "markdown",
   "id": "84aca205",
   "metadata": {},
   "source": [
    "# Create DataFrame"
   ]
  },
  {
   "cell_type": "code",
   "execution_count": 128,
   "id": "73c0702e",
   "metadata": {},
   "outputs": [],
   "source": [
    "df=pd.DataFrame(my_data)"
   ]
  },
  {
   "cell_type": "markdown",
   "id": "8d1a57f1",
   "metadata": {},
   "source": [
    "# Information about quantity of values for each column"
   ]
  },
  {
   "cell_type": "code",
   "execution_count": 129,
   "id": "1bb56211",
   "metadata": {},
   "outputs": [
    {
     "name": "stdout",
     "output_type": "stream",
     "text": [
      "Value counts for Race:\n",
      "White    3413\n",
      "Other     320\n",
      "Black     291\n",
      "Name: Race, dtype: int64\n",
      "\n",
      "Value counts for Marital Status:\n",
      "Married      2643\n",
      "Single        615\n",
      "Divorced      486\n",
      "Widowed       235\n",
      "Separated      45\n",
      "Name: Marital Status, dtype: int64\n",
      "\n",
      "Value counts for T Stage :\n",
      "T2    1786\n",
      "T1    1603\n",
      "T3     533\n",
      "T4     102\n",
      "Name: T Stage , dtype: int64\n",
      "\n",
      "Value counts for N Stage:\n",
      "N1    2732\n",
      "N2     820\n",
      "N3     472\n",
      "Name: N Stage, dtype: int64\n",
      "\n",
      "Value counts for 6th Stage:\n",
      "IIA     1305\n",
      "IIB     1130\n",
      "IIIA    1050\n",
      "IIIC     472\n",
      "IIIB      67\n",
      "Name: 6th Stage, dtype: int64\n",
      "\n",
      "Value counts for differentiate:\n",
      "Moderately differentiated    2351\n",
      "Poorly differentiated        1111\n",
      "Well differentiated           543\n",
      "Undifferentiated               19\n",
      "Name: differentiate, dtype: int64\n",
      "\n",
      "Value counts for Grade:\n",
      "2                        2351\n",
      "3                        1111\n",
      "1                         543\n",
      " anaplastic; Grade IV      19\n",
      "Name: Grade, dtype: int64\n",
      "\n",
      "Value counts for A Stage:\n",
      "Regional    3932\n",
      "Distant       92\n",
      "Name: A Stage, dtype: int64\n",
      "\n",
      "Value counts for Estrogen Status:\n",
      "Positive    3755\n",
      "Negative     269\n",
      "Name: Estrogen Status, dtype: int64\n",
      "\n",
      "Value counts for Progesterone Status:\n",
      "Positive    3326\n",
      "Negative     698\n",
      "Name: Progesterone Status, dtype: int64\n",
      "\n",
      "Value counts for Status:\n",
      "Alive    3408\n",
      "Dead      616\n",
      "Name: Status, dtype: int64\n",
      "\n"
     ]
    }
   ],
   "source": [
    "for col in df.columns:\n",
    "    if not pd.api.types.is_integer_dtype(df[col]):  # Check if column is not integer type\n",
    "        print(f\"Value counts for {col}:\")\n",
    "        print(df[col].value_counts())\n",
    "        print()  # Print an empty line for separation"
   ]
  },
  {
   "cell_type": "markdown",
   "id": "eecc467c",
   "metadata": {},
   "source": [
    "# Gain some knowledge about numerical features"
   ]
  },
  {
   "cell_type": "code",
   "execution_count": 130,
   "id": "2028b376",
   "metadata": {},
   "outputs": [
    {
     "name": "stdout",
     "output_type": "stream",
     "text": [
      "Descriptive statistics for numerical columns:\n",
      "               Age   Tumor Size  Regional Node Examined  \\\n",
      "count  4024.000000  4024.000000             4024.000000   \n",
      "mean     53.972167    30.473658               14.357107   \n",
      "std       8.963134    21.119696                8.099675   \n",
      "min      30.000000     1.000000                1.000000   \n",
      "25%      47.000000    16.000000                9.000000   \n",
      "50%      54.000000    25.000000               14.000000   \n",
      "75%      61.000000    38.000000               19.000000   \n",
      "max      69.000000   140.000000               61.000000   \n",
      "\n",
      "       Reginol Node Positive  Survival Months  \n",
      "count            4024.000000      4024.000000  \n",
      "mean                4.158052        71.297962  \n",
      "std                 5.109331        22.921430  \n",
      "min                 1.000000         1.000000  \n",
      "25%                 1.000000        56.000000  \n",
      "50%                 2.000000        73.000000  \n",
      "75%                 5.000000        90.000000  \n",
      "max                46.000000       107.000000  \n"
     ]
    }
   ],
   "source": [
    "numerical_columns = df.select_dtypes(include=['int', 'float']).columns\n",
    "\n",
    "# Describe numerical columns\n",
    "numerical_stats = df[numerical_columns].describe()\n",
    "\n",
    "print(\"Descriptive statistics for numerical columns:\")\n",
    "print(numerical_stats)"
   ]
  },
  {
   "cell_type": "markdown",
   "id": "ae4004d5",
   "metadata": {},
   "source": [
    "# Feature Selection"
   ]
  },
  {
   "cell_type": "code",
   "execution_count": 131,
   "id": "11438675",
   "metadata": {
    "scrolled": true
   },
   "outputs": [
    {
     "name": "stdout",
     "output_type": "stream",
     "text": [
      "<class 'pandas.core.frame.DataFrame'>\n",
      "RangeIndex: 4024 entries, 0 to 4023\n",
      "Data columns (total 16 columns):\n",
      " #   Column                  Non-Null Count  Dtype \n",
      "---  ------                  --------------  ----- \n",
      " 0   Age                     4024 non-null   int64 \n",
      " 1   Race                    4024 non-null   object\n",
      " 2   Marital Status          4024 non-null   object\n",
      " 3   T Stage                 4024 non-null   object\n",
      " 4   N Stage                 4024 non-null   object\n",
      " 5   6th Stage               4024 non-null   object\n",
      " 6   differentiate           4024 non-null   object\n",
      " 7   Grade                   4024 non-null   object\n",
      " 8   A Stage                 4024 non-null   object\n",
      " 9   Tumor Size              4024 non-null   int64 \n",
      " 10  Estrogen Status         4024 non-null   object\n",
      " 11  Progesterone Status     4024 non-null   object\n",
      " 12  Regional Node Examined  4024 non-null   int64 \n",
      " 13  Reginol Node Positive   4024 non-null   int64 \n",
      " 14  Survival Months         4024 non-null   int64 \n",
      " 15  Status                  4024 non-null   object\n",
      "dtypes: int64(5), object(11)\n",
      "memory usage: 503.1+ KB\n"
     ]
    }
   ],
   "source": [
    "df.info()"
   ]
  },
  {
   "cell_type": "markdown",
   "id": "4436b6a9",
   "metadata": {},
   "source": [
    "# Feature selection by Descision Trees feature importance"
   ]
  },
  {
   "cell_type": "code",
   "execution_count": 132,
   "id": "185df594",
   "metadata": {},
   "outputs": [
    {
     "data": {
      "text/plain": [
       "DecisionTreeClassifier(random_state=42)"
      ]
     },
     "execution_count": 132,
     "metadata": {},
     "output_type": "execute_result"
    }
   ],
   "source": [
    "selected_columns = ['Age', 'Tumor Size', 'Regional Node Examined','Survival Months','Reginol Node Positive',]  # Replace with your actual feature names\n",
    "# Separate features and target\n",
    "X = df[selected_columns]\n",
    "y = df['Status']\n",
    "\n",
    "X_train, X_test, y_train, y_test = train_test_split(X, y, test_size=0.3, random_state=42)\n",
    "\n",
    "# Train a Decision Tree\n",
    "clf = DecisionTreeClassifier(random_state=42)\n",
    "clf.fit(X_train, y_train)"
   ]
  },
  {
   "cell_type": "code",
   "execution_count": 133,
   "id": "1912b999",
   "metadata": {},
   "outputs": [
    {
     "name": "stdout",
     "output_type": "stream",
     "text": [
      "Feature Importances from Decision Tree:\n",
      "Survival Months           0.468858\n",
      "Age                       0.154544\n",
      "Tumor Size                0.152395\n",
      "Regional Node Examined    0.130100\n",
      "Reginol Node Positive     0.094103\n",
      "dtype: float64\n"
     ]
    }
   ],
   "source": [
    "# Get feature importances\n",
    "importances = clf.feature_importances_\n",
    "importance_series = pd.Series(importances, index=X.columns).sort_values(ascending=False)\n",
    "\n",
    "print(\"Feature Importances from Decision Tree:\")\n",
    "print(importance_series)\n"
   ]
  },
  {
   "cell_type": "markdown",
   "id": "e9b6fb0a",
   "metadata": {},
   "source": [
    "## \"Regional Node Examined\" and \"Reginol Node Positive\" should be dropped"
   ]
  },
  {
   "cell_type": "code",
   "execution_count": 134,
   "id": "4265eb2b",
   "metadata": {},
   "outputs": [],
   "source": [
    "categorical_columns = ['Marital Status', 'differentiate','Race','T Stage ','Progesterone Status','N Stage','6th Stage','Grade','A Stage','Estrogen Status']  # Your actual feature names\n",
    "\n",
    "# Encode categorical features\n",
    "label_encoders = {}\n",
    "for col in categorical_columns:\n",
    "    le = LabelEncoder()\n",
    "    df[col] = le.fit_transform(df[col])\n",
    "    label_encoders[col] = le\n",
    "                "
   ]
  },
  {
   "cell_type": "code",
   "execution_count": 135,
   "id": "a242d0bc",
   "metadata": {},
   "outputs": [
    {
     "data": {
      "text/plain": [
       "DecisionTreeClassifier(random_state=42)"
      ]
     },
     "execution_count": 135,
     "metadata": {},
     "output_type": "execute_result"
    }
   ],
   "source": [
    "X = df[categorical_columns]\n",
    "y = df['Status']\n",
    "\n",
    "X_train, X_test, y_train, y_test = train_test_split(X, y, test_size=0.3, random_state=42)\n",
    "\n",
    "# Train a Decision Tree\n",
    "clf = DecisionTreeClassifier(random_state=42)\n",
    "clf.fit(X_train, y_train)"
   ]
  },
  {
   "cell_type": "code",
   "execution_count": 136,
   "id": "d922afda",
   "metadata": {},
   "outputs": [
    {
     "name": "stdout",
     "output_type": "stream",
     "text": [
      "Feature Importances from Decision Tree:\n",
      "Marital Status         0.218051\n",
      "6th Stage              0.199337\n",
      "T Stage                0.151596\n",
      "Race                   0.090615\n",
      "Estrogen Status        0.079766\n",
      "Progesterone Status    0.077521\n",
      "Grade                  0.070915\n",
      "N Stage                0.049233\n",
      "differentiate          0.032803\n",
      "A Stage                0.030164\n",
      "dtype: float64\n"
     ]
    }
   ],
   "source": [
    "# Get feature importances\n",
    "importances = clf.feature_importances_\n",
    "importance_series = pd.Series(importances, index=X.columns).sort_values(ascending=False)\n",
    "\n",
    "print(\"Feature Importances from Decision Tree:\")\n",
    "print(importance_series)\n"
   ]
  },
  {
   "cell_type": "markdown",
   "id": "36fa9f22",
   "metadata": {},
   "source": [
    "## \"Marital Status\" and \"6th stage\" are selected"
   ]
  },
  {
   "cell_type": "markdown",
   "id": "cafedaed",
   "metadata": {},
   "source": [
    "# Selecting top features\n",
    "## There are 3 numerical, 1 categorical, and 1 binary columns"
   ]
  },
  {
   "cell_type": "code",
   "execution_count": 137,
   "id": "e65e8af6",
   "metadata": {},
   "outputs": [],
   "source": [
    "columns_to_drop=['T Stage ','N Stage','differentiate','Race','Grade','A Stage','Estrogen Status','Progesterone Status','Reginol Node Positive','Regional Node Examined']\n",
    "df.drop(columns=columns_to_drop, inplace=True)  # Use inplace=True to modify the original DataFrame\n"
   ]
  },
  {
   "cell_type": "code",
   "execution_count": 138,
   "id": "4e68bf12",
   "metadata": {},
   "outputs": [
    {
     "data": {
      "text/html": [
       "<div>\n",
       "<style scoped>\n",
       "    .dataframe tbody tr th:only-of-type {\n",
       "        vertical-align: middle;\n",
       "    }\n",
       "\n",
       "    .dataframe tbody tr th {\n",
       "        vertical-align: top;\n",
       "    }\n",
       "\n",
       "    .dataframe thead th {\n",
       "        text-align: right;\n",
       "    }\n",
       "</style>\n",
       "<table border=\"1\" class=\"dataframe\">\n",
       "  <thead>\n",
       "    <tr style=\"text-align: right;\">\n",
       "      <th></th>\n",
       "      <th>Age</th>\n",
       "      <th>Marital Status</th>\n",
       "      <th>6th Stage</th>\n",
       "      <th>Tumor Size</th>\n",
       "      <th>Survival Months</th>\n",
       "      <th>Status</th>\n",
       "    </tr>\n",
       "  </thead>\n",
       "  <tbody>\n",
       "    <tr>\n",
       "      <th>0</th>\n",
       "      <td>68</td>\n",
       "      <td>1</td>\n",
       "      <td>0</td>\n",
       "      <td>4</td>\n",
       "      <td>60</td>\n",
       "      <td>Alive</td>\n",
       "    </tr>\n",
       "    <tr>\n",
       "      <th>1</th>\n",
       "      <td>50</td>\n",
       "      <td>1</td>\n",
       "      <td>2</td>\n",
       "      <td>35</td>\n",
       "      <td>62</td>\n",
       "      <td>Alive</td>\n",
       "    </tr>\n",
       "    <tr>\n",
       "      <th>2</th>\n",
       "      <td>58</td>\n",
       "      <td>0</td>\n",
       "      <td>4</td>\n",
       "      <td>63</td>\n",
       "      <td>75</td>\n",
       "      <td>Alive</td>\n",
       "    </tr>\n",
       "    <tr>\n",
       "      <th>3</th>\n",
       "      <td>58</td>\n",
       "      <td>1</td>\n",
       "      <td>0</td>\n",
       "      <td>18</td>\n",
       "      <td>84</td>\n",
       "      <td>Alive</td>\n",
       "    </tr>\n",
       "    <tr>\n",
       "      <th>4</th>\n",
       "      <td>47</td>\n",
       "      <td>1</td>\n",
       "      <td>1</td>\n",
       "      <td>41</td>\n",
       "      <td>50</td>\n",
       "      <td>Alive</td>\n",
       "    </tr>\n",
       "    <tr>\n",
       "      <th>...</th>\n",
       "      <td>...</td>\n",
       "      <td>...</td>\n",
       "      <td>...</td>\n",
       "      <td>...</td>\n",
       "      <td>...</td>\n",
       "      <td>...</td>\n",
       "    </tr>\n",
       "    <tr>\n",
       "      <th>4019</th>\n",
       "      <td>62</td>\n",
       "      <td>1</td>\n",
       "      <td>0</td>\n",
       "      <td>9</td>\n",
       "      <td>49</td>\n",
       "      <td>Alive</td>\n",
       "    </tr>\n",
       "    <tr>\n",
       "      <th>4020</th>\n",
       "      <td>56</td>\n",
       "      <td>0</td>\n",
       "      <td>2</td>\n",
       "      <td>46</td>\n",
       "      <td>69</td>\n",
       "      <td>Alive</td>\n",
       "    </tr>\n",
       "    <tr>\n",
       "      <th>4021</th>\n",
       "      <td>68</td>\n",
       "      <td>1</td>\n",
       "      <td>1</td>\n",
       "      <td>22</td>\n",
       "      <td>69</td>\n",
       "      <td>Alive</td>\n",
       "    </tr>\n",
       "    <tr>\n",
       "      <th>4022</th>\n",
       "      <td>58</td>\n",
       "      <td>0</td>\n",
       "      <td>1</td>\n",
       "      <td>44</td>\n",
       "      <td>72</td>\n",
       "      <td>Alive</td>\n",
       "    </tr>\n",
       "    <tr>\n",
       "      <th>4023</th>\n",
       "      <td>46</td>\n",
       "      <td>1</td>\n",
       "      <td>1</td>\n",
       "      <td>30</td>\n",
       "      <td>100</td>\n",
       "      <td>Alive</td>\n",
       "    </tr>\n",
       "  </tbody>\n",
       "</table>\n",
       "<p>4024 rows × 6 columns</p>\n",
       "</div>"
      ],
      "text/plain": [
       "      Age  Marital Status  6th Stage  Tumor Size  Survival Months Status\n",
       "0      68               1          0           4               60  Alive\n",
       "1      50               1          2          35               62  Alive\n",
       "2      58               0          4          63               75  Alive\n",
       "3      58               1          0          18               84  Alive\n",
       "4      47               1          1          41               50  Alive\n",
       "...   ...             ...        ...         ...              ...    ...\n",
       "4019   62               1          0           9               49  Alive\n",
       "4020   56               0          2          46               69  Alive\n",
       "4021   68               1          1          22               69  Alive\n",
       "4022   58               0          1          44               72  Alive\n",
       "4023   46               1          1          30              100  Alive\n",
       "\n",
       "[4024 rows x 6 columns]"
      ]
     },
     "execution_count": 138,
     "metadata": {},
     "output_type": "execute_result"
    }
   ],
   "source": [
    "df"
   ]
  },
  {
   "cell_type": "code",
   "execution_count": null,
   "id": "2c25802c",
   "metadata": {},
   "outputs": [],
   "source": []
  }
 ],
 "metadata": {
  "kernelspec": {
   "display_name": "Python 3 (ipykernel)",
   "language": "python",
   "name": "python3"
  },
  "language_info": {
   "codemirror_mode": {
    "name": "ipython",
    "version": 3
   },
   "file_extension": ".py",
   "mimetype": "text/x-python",
   "name": "python",
   "nbconvert_exporter": "python",
   "pygments_lexer": "ipython3",
   "version": "3.9.13"
  }
 },
 "nbformat": 4,
 "nbformat_minor": 5
}
